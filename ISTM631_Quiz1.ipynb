{
  "nbformat": 4,
  "nbformat_minor": 0,
  "metadata": {
    "colab": {
      "name": "ISTM631-Quiz1",
      "provenance": [],
      "include_colab_link": true
    },
    "kernelspec": {
      "name": "python3",
      "display_name": "Python 3"
    }
  },
  "cells": [
    {
      "cell_type": "markdown",
      "metadata": {
        "id": "view-in-github",
        "colab_type": "text"
      },
      "source": [
        "<a href=\"https://colab.research.google.com/github/yiningz5/ISTM-631/blob/main/ISTM631_Quiz1.ipynb\" target=\"_parent\"><img src=\"https://colab.research.google.com/assets/colab-badge.svg\" alt=\"Open In Colab\"/></a>"
      ]
    },
    {
      "cell_type": "markdown",
      "metadata": {
        "id": "SOAjma4aDae7"
      },
      "source": [
        "Write a program that computes and prints the average of the numbers in a text file. You should make use of two higher-order functions to simplify the design.\n",
        "\n",
        "\n",
        "\n",
        "\n",
        "\n",
        " \n",
        "\n",
        "\n",
        "\n",
        "\n"
      ]
    },
    {
      "cell_type": "markdown",
      "metadata": {
        "id": "E4jrxT8IDk4c"
      },
      "source": [
        "\n",
        "Explain what happens when the following recursive function is called with the values \"hello\" and 0 as arguments:\n",
        "\n",
        "def example(aString, index):\n",
        "\n",
        "if index == len(aString):         \n",
        "\n",
        "return \"\"\n",
        "\n",
        "else:\n",
        "\n",
        "return aString[index] + example(aString, index + 1)"
      ]
    },
    {
      "cell_type": "markdown",
      "metadata": {
        "id": "HO8XpGV-FCJh"
      },
      "source": [
        "for the first iteration, the function will give back h for index 0 then e for index+1(which is 1), until the index adds up to 4, which is o\n"
      ]
    },
    {
      "cell_type": "markdown",
      "metadata": {
        "id": "8eJtQtMjDsg4"
      },
      "source": [
        "The log2 of a given number N is given by M in the equation N = 2^M. Using integer arithmetic, the value of M is approximately equal to the number of times N can be evenly divided by 2 until it becomes 0. Write a loop that computes this approximation of the log2 of a given number N. You can check your code by importing the math.log function and evaluating the expression round(math.log(N, 2)) (note that the math.log function returns a floating-point value).\n"
      ]
    },
    {
      "cell_type": "markdown",
      "metadata": {
        "id": "mPa-4D2bDtfQ"
      },
      "source": [
        "Write a program that accepts the lengths of three sides of a triangle as inputs. The program output should indicate whether or not the triangle is an equilateral triangle. "
      ]
    }
  ]
}